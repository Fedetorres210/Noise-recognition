{
 "cells": [
  {
   "cell_type": "code",
   "execution_count": 1,
   "id": "779ebdaa",
   "metadata": {},
   "outputs": [],
   "source": [
    "import librosa \n",
    "import sounddevice as sd\n",
    "import wavio\n",
    "import numpy as np"
   ]
  },
  {
   "cell_type": "code",
   "execution_count": 2,
   "id": "765854c6",
   "metadata": {},
   "outputs": [],
   "source": [
    "def record(duration=5, fs=48000):\n",
    "    sd.default.samplerate = fs\n",
    "    sd.default.channels = 1\n",
    "    myrecording = sd.rec(int(duration * fs))\n",
    "    sd.wait(duration)\n",
    "    return myrecording"
   ]
  },
  {
   "cell_type": "code",
   "execution_count": 8,
   "id": "b6d8f5a1",
   "metadata": {},
   "outputs": [
    {
     "data": {
      "text/plain": [
       "240000"
      ]
     },
     "execution_count": 8,
     "metadata": {},
     "output_type": "execute_result"
    }
   ],
   "source": [
    "test = record()\n",
    "len(test)\n"
   ]
  },
  {
   "cell_type": "code",
   "execution_count": null,
   "id": "d77cdefa",
   "metadata": {},
   "outputs": [],
   "source": []
  },
  {
   "cell_type": "code",
   "execution_count": null,
   "id": "35d5f6fd",
   "metadata": {},
   "outputs": [],
   "source": []
  }
 ],
 "metadata": {
  "kernelspec": {
   "display_name": "Python 3 (ipykernel)",
   "language": "python",
   "name": "python3"
  },
  "language_info": {
   "codemirror_mode": {
    "name": "ipython",
    "version": 3
   },
   "file_extension": ".py",
   "mimetype": "text/x-python",
   "name": "python",
   "nbconvert_exporter": "python",
   "pygments_lexer": "ipython3",
   "version": "3.10.1"
  }
 },
 "nbformat": 4,
 "nbformat_minor": 5
}
